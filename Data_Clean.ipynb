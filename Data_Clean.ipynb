{
 "cells": [
  {
   "cell_type": "code",
   "execution_count": 1,
   "metadata": {},
   "outputs": [],
   "source": [
    "import pandas as pd\n",
    "import numpy as np"
   ]
  },
  {
   "cell_type": "code",
   "execution_count": 2,
   "metadata": {},
   "outputs": [
    {
     "data": {
      "text/plain": [
       "Index(['Unnamed: 0', 'Movie Name', 'Year of Release', 'Watch Time',\n",
       "       'Movie Rating', 'Meatscore of movie', 'Votes', 'Gross', 'Description'],\n",
       "      dtype='object')"
      ]
     },
     "execution_count": 2,
     "metadata": {},
     "output_type": "execute_result"
    }
   ],
   "source": [
    "data = pd.read_csv('Top Ranked Real Movies Dataset.csv')\n",
    "df=pd.DataFrame(data)\n",
    "df.columns"
   ]
  },
  {
   "cell_type": "code",
   "execution_count": 3,
   "metadata": {},
   "outputs": [],
   "source": [
    "df.drop(columns=['Unnamed: 0'], inplace=True)"
   ]
  },
  {
   "cell_type": "code",
   "execution_count": 4,
   "metadata": {},
   "outputs": [
    {
     "data": {
      "text/plain": [
       "Movie Name            False\n",
       "Year of Release       False\n",
       "Watch Time            False\n",
       "Movie Rating          False\n",
       "Meatscore of movie     True\n",
       "Votes                 False\n",
       "Gross                  True\n",
       "Description           False\n",
       "dtype: bool"
      ]
     },
     "execution_count": 4,
     "metadata": {},
     "output_type": "execute_result"
    }
   ],
   "source": [
    "df.isnull().any()\n"
   ]
  },
  {
   "cell_type": "code",
   "execution_count": 5,
   "metadata": {},
   "outputs": [
    {
     "name": "stderr",
     "output_type": "stream",
     "text": [
      "C:\\Users\\store\\AppData\\Local\\Temp\\ipykernel_2984\\1314718101.py:1: FutureWarning: A value is trying to be set on a copy of a DataFrame or Series through chained assignment using an inplace method.\n",
      "The behavior will change in pandas 3.0. This inplace method will never work because the intermediate object on which we are setting values always behaves as a copy.\n",
      "\n",
      "For example, when doing 'df[col].method(value, inplace=True)', try using 'df.method({col: value}, inplace=True)' or df[col] = df[col].method(value) instead, to perform the operation inplace on the original object.\n",
      "\n",
      "\n",
      "  df['Meatscore of movie'].fillna(df['Meatscore of movie'].median(), inplace=True)\n"
     ]
    }
   ],
   "source": [
    "df['Meatscore of movie'].fillna(df['Meatscore of movie'].median(), inplace=True)"
   ]
  },
  {
   "cell_type": "code",
   "execution_count": 6,
   "metadata": {},
   "outputs": [],
   "source": [
    "df['Year of Release'] = df['Year of Release'].str.replace(\"-\", \"\", regex=False)\n",
    "\n"
   ]
  },
  {
   "cell_type": "code",
   "execution_count": 7,
   "metadata": {},
   "outputs": [],
   "source": [
    "df.loc[df['Movie Name'].duplicated(keep=False), 'Movie Name']=(\n",
    "df['Movie Name'] + \" (\" + df['Year of Release'].astype(str) + \")\")"
   ]
  },
  {
   "cell_type": "code",
   "execution_count": 8,
   "metadata": {},
   "outputs": [],
   "source": [
    "\n",
    "df['Year of Release'] = pd.to_numeric(df['Year of Release'].str.extract(r'(\\d{4})')[0], errors='coerce').astype('Int64')\n"
   ]
  },
  {
   "cell_type": "code",
   "execution_count": 9,
   "metadata": {},
   "outputs": [],
   "source": [
    "df['Watch Time']=df['Watch Time'].str.replace(' min', '', regex=False).astype('Int64')"
   ]
  },
  {
   "cell_type": "code",
   "execution_count": 10,
   "metadata": {},
   "outputs": [
    {
     "data": {
      "text/plain": [
       "0       164\n",
       "1       153\n",
       "2       142\n",
       "3       175\n",
       "4       152\n",
       "       ... \n",
       "997     118\n",
       "998      83\n",
       "999      86\n",
       "1000    125\n",
       "1001    169\n",
       "Name: Watch Time, Length: 1002, dtype: Int64"
      ]
     },
     "execution_count": 10,
     "metadata": {},
     "output_type": "execute_result"
    }
   ],
   "source": [
    "df['Watch Time']"
   ]
  },
  {
   "cell_type": "code",
   "execution_count": 11,
   "metadata": {},
   "outputs": [],
   "source": [
    "df['Votes']=df['Votes'].str.replace(',', '', regex=False).astype('Int64')\n"
   ]
  },
  {
   "cell_type": "code",
   "execution_count": 12,
   "metadata": {},
   "outputs": [],
   "source": [
    "df = df[~df['Gross'].astype(str).str.startswith('#')]\n"
   ]
  },
  {
   "cell_type": "code",
   "execution_count": 13,
   "metadata": {},
   "outputs": [],
   "source": [
    "df['Gross'].dropna(inplace=True)\n"
   ]
  },
  {
   "cell_type": "code",
   "execution_count": 14,
   "metadata": {},
   "outputs": [
    {
     "data": {
      "text/plain": [
       "dtype('O')"
      ]
     },
     "execution_count": 14,
     "metadata": {},
     "output_type": "execute_result"
    }
   ],
   "source": [
    "df.dropna(subset=['Gross'], inplace=True)\n",
    "df['Gross'].dtype\n",
    "\n"
   ]
  },
  {
   "cell_type": "code",
   "execution_count": 15,
   "metadata": {},
   "outputs": [
    {
     "name": "stderr",
     "output_type": "stream",
     "text": [
      "<>:1: SyntaxWarning: invalid escape sequence '\\$'\n",
      "<>:1: SyntaxWarning: invalid escape sequence '\\$'\n",
      "C:\\Users\\store\\AppData\\Local\\Temp\\ipykernel_2984\\2884029287.py:1: SyntaxWarning: invalid escape sequence '\\$'\n",
      "  df['Gross'] = df['Gross'].replace('[\\$,M]', '', regex=True).astype('float')\n"
     ]
    }
   ],
   "source": [
    "df['Gross'] = df['Gross'].replace('[\\$,M]', '', regex=True).astype('float')\n",
    "df['Gross'] = df['Gross'] * 1_000_000\n",
    "df['Gross'] = df['Gross'].astype('int64')\n"
   ]
  },
  {
   "cell_type": "code",
   "execution_count": 16,
   "metadata": {},
   "outputs": [
    {
     "data": {
      "text/html": [
       "<div>\n",
       "<style scoped>\n",
       "    .dataframe tbody tr th:only-of-type {\n",
       "        vertical-align: middle;\n",
       "    }\n",
       "\n",
       "    .dataframe tbody tr th {\n",
       "        vertical-align: top;\n",
       "    }\n",
       "\n",
       "    .dataframe thead th {\n",
       "        text-align: right;\n",
       "    }\n",
       "</style>\n",
       "<table border=\"1\" class=\"dataframe\">\n",
       "  <thead>\n",
       "    <tr style=\"text-align: right;\">\n",
       "      <th></th>\n",
       "      <th>Movie Name</th>\n",
       "      <th>Year of Release</th>\n",
       "      <th>Watch Time</th>\n",
       "      <th>Movie Rating</th>\n",
       "      <th>Meatscore of movie</th>\n",
       "      <th>Votes</th>\n",
       "      <th>Gross</th>\n",
       "      <th>Description</th>\n",
       "    </tr>\n",
       "  </thead>\n",
       "  <tbody>\n",
       "    <tr>\n",
       "      <th>2</th>\n",
       "      <td>The Shawshank Redemption</td>\n",
       "      <td>1994</td>\n",
       "      <td>142</td>\n",
       "      <td>9.3</td>\n",
       "      <td>81</td>\n",
       "      <td>2559534</td>\n",
       "      <td>28340000</td>\n",
       "      <td>Two imprisoned men bond over a number of years...</td>\n",
       "    </tr>\n",
       "    <tr>\n",
       "      <th>3</th>\n",
       "      <td>The Godfather</td>\n",
       "      <td>1972</td>\n",
       "      <td>175</td>\n",
       "      <td>9.2</td>\n",
       "      <td>100</td>\n",
       "      <td>1761949</td>\n",
       "      <td>134970000</td>\n",
       "      <td>The aging patriarch of an organized crime dyna...</td>\n",
       "    </tr>\n",
       "    <tr>\n",
       "      <th>4</th>\n",
       "      <td>The Dark Knight</td>\n",
       "      <td>2008</td>\n",
       "      <td>152</td>\n",
       "      <td>9.1</td>\n",
       "      <td>84</td>\n",
       "      <td>2519388</td>\n",
       "      <td>534860000</td>\n",
       "      <td>When the menace known as the Joker wreaks havo...</td>\n",
       "    </tr>\n",
       "    <tr>\n",
       "      <th>5</th>\n",
       "      <td>The Lord of the Rings: The Return of the King</td>\n",
       "      <td>2003</td>\n",
       "      <td>201</td>\n",
       "      <td>9.0</td>\n",
       "      <td>94</td>\n",
       "      <td>1762714</td>\n",
       "      <td>377850000</td>\n",
       "      <td>Gandalf and Aragorn lead the World of Men agai...</td>\n",
       "    </tr>\n",
       "    <tr>\n",
       "      <th>6</th>\n",
       "      <td>Schindler's List</td>\n",
       "      <td>1993</td>\n",
       "      <td>195</td>\n",
       "      <td>9.0</td>\n",
       "      <td>94</td>\n",
       "      <td>1305269</td>\n",
       "      <td>96900000</td>\n",
       "      <td>In German-occupied Poland during World War II,...</td>\n",
       "    </tr>\n",
       "    <tr>\n",
       "      <th>...</th>\n",
       "      <td>...</td>\n",
       "      <td>...</td>\n",
       "      <td>...</td>\n",
       "      <td>...</td>\n",
       "      <td>...</td>\n",
       "      <td>...</td>\n",
       "      <td>...</td>\n",
       "      <td>...</td>\n",
       "    </tr>\n",
       "    <tr>\n",
       "      <th>993</th>\n",
       "      <td>Peeping Tom</td>\n",
       "      <td>1960</td>\n",
       "      <td>101</td>\n",
       "      <td>7.6</td>\n",
       "      <td>79</td>\n",
       "      <td>34484</td>\n",
       "      <td>80000</td>\n",
       "      <td>A young man murders women, using a movie camer...</td>\n",
       "    </tr>\n",
       "    <tr>\n",
       "      <th>994</th>\n",
       "      <td>Les yeux sans visage</td>\n",
       "      <td>1960</td>\n",
       "      <td>90</td>\n",
       "      <td>7.6</td>\n",
       "      <td>90</td>\n",
       "      <td>30733</td>\n",
       "      <td>50000</td>\n",
       "      <td>A surgeon causes an accident which leaves his ...</td>\n",
       "    </tr>\n",
       "    <tr>\n",
       "      <th>997</th>\n",
       "      <td>From Here to Eternity</td>\n",
       "      <td>1953</td>\n",
       "      <td>118</td>\n",
       "      <td>7.6</td>\n",
       "      <td>85</td>\n",
       "      <td>46214</td>\n",
       "      <td>30500000</td>\n",
       "      <td>At a U.S. Army base in 1941 Hawaii, a private ...</td>\n",
       "    </tr>\n",
       "    <tr>\n",
       "      <th>998</th>\n",
       "      <td>Snow White and the Seven Dwarfs</td>\n",
       "      <td>1937</td>\n",
       "      <td>83</td>\n",
       "      <td>7.6</td>\n",
       "      <td>95</td>\n",
       "      <td>194055</td>\n",
       "      <td>184930000</td>\n",
       "      <td>Exiled into the dangerous forest by her wicked...</td>\n",
       "    </tr>\n",
       "    <tr>\n",
       "      <th>1001</th>\n",
       "      <td>Taylor Swift: The Eras Tour</td>\n",
       "      <td>2023</td>\n",
       "      <td>169</td>\n",
       "      <td>8.2</td>\n",
       "      <td>83</td>\n",
       "      <td>17000</td>\n",
       "      <td>261600000</td>\n",
       "      <td>Designed as a tribute to Swift's discography a...</td>\n",
       "    </tr>\n",
       "  </tbody>\n",
       "</table>\n",
       "<p>821 rows × 8 columns</p>\n",
       "</div>"
      ],
      "text/plain": [
       "                                         Movie Name  Year of Release  \\\n",
       "2                          The Shawshank Redemption             1994   \n",
       "3                                     The Godfather             1972   \n",
       "4                                   The Dark Knight             2008   \n",
       "5     The Lord of the Rings: The Return of the King             2003   \n",
       "6                                  Schindler's List             1993   \n",
       "...                                             ...              ...   \n",
       "993                                     Peeping Tom             1960   \n",
       "994                            Les yeux sans visage             1960   \n",
       "997                           From Here to Eternity             1953   \n",
       "998                 Snow White and the Seven Dwarfs             1937   \n",
       "1001                    Taylor Swift: The Eras Tour             2023   \n",
       "\n",
       "      Watch Time  Movie Rating  Meatscore of movie    Votes      Gross  \\\n",
       "2            142           9.3                  81  2559534   28340000   \n",
       "3            175           9.2                 100  1761949  134970000   \n",
       "4            152           9.1                  84  2519388  534860000   \n",
       "5            201           9.0                  94  1762714  377850000   \n",
       "6            195           9.0                  94  1305269   96900000   \n",
       "...          ...           ...                 ...      ...        ...   \n",
       "993          101           7.6                  79    34484      80000   \n",
       "994           90           7.6                  90    30733      50000   \n",
       "997          118           7.6                  85    46214   30500000   \n",
       "998           83           7.6                  95   194055  184930000   \n",
       "1001         169           8.2                  83    17000  261600000   \n",
       "\n",
       "                                            Description  \n",
       "2     Two imprisoned men bond over a number of years...  \n",
       "3     The aging patriarch of an organized crime dyna...  \n",
       "4     When the menace known as the Joker wreaks havo...  \n",
       "5     Gandalf and Aragorn lead the World of Men agai...  \n",
       "6     In German-occupied Poland during World War II,...  \n",
       "...                                                 ...  \n",
       "993   A young man murders women, using a movie camer...  \n",
       "994   A surgeon causes an accident which leaves his ...  \n",
       "997   At a U.S. Army base in 1941 Hawaii, a private ...  \n",
       "998   Exiled into the dangerous forest by her wicked...  \n",
       "1001  Designed as a tribute to Swift's discography a...  \n",
       "\n",
       "[821 rows x 8 columns]"
      ]
     },
     "execution_count": 16,
     "metadata": {},
     "output_type": "execute_result"
    }
   ],
   "source": [
    "df['Meatscore of movie']=df['Meatscore of movie'].astype('Int64')\n",
    "df"
   ]
  },
  {
   "cell_type": "code",
   "execution_count": 17,
   "metadata": {},
   "outputs": [],
   "source": [
    "df.to_csv('Cleaned_Top_Ranked_Real_Movies_Dataset.csv', index=False)"
   ]
  },
  {
   "cell_type": "code",
   "execution_count": null,
   "metadata": {},
   "outputs": [],
   "source": []
  }
 ],
 "metadata": {
  "kernelspec": {
   "display_name": "Python 3",
   "language": "python",
   "name": "python3"
  },
  "language_info": {
   "codemirror_mode": {
    "name": "ipython",
    "version": 3
   },
   "file_extension": ".py",
   "mimetype": "text/x-python",
   "name": "python",
   "nbconvert_exporter": "python",
   "pygments_lexer": "ipython3",
   "version": "3.13.5"
  }
 },
 "nbformat": 4,
 "nbformat_minor": 2
}
